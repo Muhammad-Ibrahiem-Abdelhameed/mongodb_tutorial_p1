{
 "cells": [
  {
   "cell_type": "code",
   "execution_count": 1,
   "metadata": {},
   "outputs": [],
   "source": [
    "from pymongo import MongoClient\n",
    "import pandas as pd\n",
    "import json"
   ]
  },
  {
   "cell_type": "code",
   "execution_count": 2,
   "metadata": {},
   "outputs": [],
   "source": [
    "# i use try except to check value exist or not\n",
    "# connection\n",
    "client = MongoClient(\"mongodb://localhost:27017/\")\n",
    "db = client[\"dept\"]"
   ]
  },
  {
   "cell_type": "code",
   "execution_count": 5,
   "metadata": {},
   "outputs": [
    {
     "data": {
      "text/plain": [
       "<pymongo.results.InsertManyResult at 0x1b92299c4c8>"
      ]
     },
     "execution_count": 5,
     "metadata": {},
     "output_type": "execute_result"
    }
   ],
   "source": [
    "people_col = db[\"people\"]   # instance\n",
    "df = pd.read_csv('people.csv')\n",
    "data_json = json.loads(df.to_json(orient='records'))\n",
    "people_col.insert_many(data_json)\n",
    "\n",
    "pos_col = db[\"positions\"]   # collection instance\n",
    "df = pd.read_csv('positions.csv')\n",
    "data_json = json.loads(df.to_json(orient='records'))\n",
    "pos_col.insert_many(data_json)\n",
    "\n",
    "org_col = db[\"organizations\"]   # collection instance\n",
    "df = pd.read_csv('organizations.csv')\n",
    "data_json = json.loads(df.to_json(orient='records'))\n",
    "org_col.insert_many(data_json)"
   ]
  },
  {
   "cell_type": "code",
   "execution_count": 6,
   "metadata": {},
   "outputs": [
    {
     "name": "stdout",
     "output_type": "stream",
     "text": [
      "5d074de7f502620fc807b4cc\n"
     ]
    }
   ],
   "source": [
    "org1 = {\"org_ID\":131428,\n",
    "\"org_name\":\"Power Sciences Department\"}\n",
    "\n",
    "# it return an object\n",
    "org_item = org_col.insert_one(org1)\n",
    "print(org_item.inserted_id)"
   ]
  },
  {
   "cell_type": "code",
   "execution_count": 7,
   "metadata": {},
   "outputs": [
    {
     "name": "stdout",
     "output_type": "stream",
     "text": [
      "[ObjectId('5d074df4f502620fc807b4cd'), ObjectId('5d074df4f502620fc807b4ce')]\n"
     ]
    }
   ],
   "source": [
    "orgs = [\n",
    "     {\"org_ID\":231428,\n",
    "    \"org_name\":\"Computers Department\"},\n",
    "    {\"org_ID\":331428,\n",
    "    \"org_name\":\"Structure Department\"}\n",
    "]\n",
    "\n",
    "# it return list of objects\n",
    "org_items = org_col.insert_many(orgs)\n",
    "print(org_items.inserted_ids)"
   ]
  },
  {
   "cell_type": "code",
   "execution_count": 12,
   "metadata": {},
   "outputs": [
    {
     "name": "stdout",
     "output_type": "stream",
     "text": [
      "{'_id': ObjectId('5d074dd6f502620fc807b477'), 'person_ID': 34530, 'firstname': 'magdi', 'lastname': 'abd elrahman', 'age': 35.0, 'prevJobs': 'Agricultural Engineers,Wind Energy Engineers', 'friendsID': None, 'hobbies': 'competitive programming,competitive programming', 'email': None, 'nationality': 'egyptian'}\n"
     ]
    }
   ],
   "source": [
    "man = people_col.find_one()\n",
    "print(man)"
   ]
  },
  {
   "cell_type": "code",
   "execution_count": 15,
   "metadata": {},
   "outputs": [
    {
     "name": "stdout",
     "output_type": "stream",
     "text": [
      "{'_id': ObjectId('5d074dd6f502620fc807b477'), 'person_ID': 34530, 'firstname': 'magdi', 'lastname': 'abd elrahman', 'age': 35.0, 'prevJobs': 'Agricultural Engineers,Wind Energy Engineers', 'friendsID': None, 'hobbies': 'competitive programming,competitive programming', 'email': None, 'nationality': 'egyptian'}\n"
     ]
    }
   ],
   "source": [
    "man = people_col.find_one({'firstname':'magdi'})\n",
    "print(man)"
   ]
  },
  {
   "cell_type": "code",
   "execution_count": 20,
   "metadata": {},
   "outputs": [
    {
     "name": "stdout",
     "output_type": "stream",
     "text": [
      "{'_id': ObjectId('5d074dd6f502620fc807b483'), 'person_ID': 41590, 'firstname': 'ibrahim', 'lastname': 'tamer', 'age': 21.0, 'prevJobs': None, 'friendsID': '4,580,039,209', 'hobbies': None, 'email': 'ibrahimtamer1165@gmail.com', 'nationality': 'iraqi'}\n",
      "{'_id': ObjectId('5d074dd6f502620fc807b487'), 'person_ID': 29408, 'firstname': 'ibrahim', 'lastname': 'hatem', 'age': 58.0, 'prevJobs': 'Manufacturing Engineers', 'friendsID': None, 'hobbies': 'reading,watching movies', 'email': None, 'nationality': 'jordanian'}\n",
      "{'_id': ObjectId('5d074dd6f502620fc807b488'), 'person_ID': 45309, 'firstname': 'ibrahim', 'lastname': 'abd allah', 'age': 50.0, 'prevJobs': 'Civil Engineers,Manufacturing Engineering Technologists', 'friendsID': '1,080,910,307', 'hobbies': 'tennis,football', 'email': 'abd allahibrahim1889@yahoo.com', 'nationality': 'egyptian'}\n"
     ]
    }
   ],
   "source": [
    "cursor = people_col.find({'firstname':'ibrahim'})\n",
    "for pep in cursor:\n",
    "    print(pep)"
   ]
  },
  {
   "cell_type": "code",
   "execution_count": 21,
   "metadata": {},
   "outputs": [
    {
     "data": {
      "text/plain": [
       "<pymongo.results.UpdateResult at 0x1b9229b8988>"
      ]
     },
     "execution_count": 21,
     "metadata": {},
     "output_type": "execute_result"
    }
   ],
   "source": [
    "people_col.update_one({'lastname':'hatem'}, { '$set':{'age': 44} })"
   ]
  },
  {
   "cell_type": "code",
   "execution_count": 22,
   "metadata": {},
   "outputs": [
    {
     "data": {
      "text/plain": [
       "<pymongo.results.DeleteResult at 0x1b92299cd48>"
      ]
     },
     "execution_count": 22,
     "metadata": {},
     "output_type": "execute_result"
    }
   ],
   "source": [
    "people_col.delete_one({'firstname':'magdi'})"
   ]
  },
  {
   "cell_type": "code",
   "execution_count": null,
   "metadata": {},
   "outputs": [],
   "source": []
  }
 ],
 "metadata": {
  "kernelspec": {
   "display_name": "Python 3",
   "language": "python",
   "name": "python3"
  },
  "language_info": {
   "codemirror_mode": {
    "name": "ipython",
    "version": 3
   },
   "file_extension": ".py",
   "mimetype": "text/x-python",
   "name": "python",
   "nbconvert_exporter": "python",
   "pygments_lexer": "ipython3",
   "version": "3.6.6"
  }
 },
 "nbformat": 4,
 "nbformat_minor": 2
}
